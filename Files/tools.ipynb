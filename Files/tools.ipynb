{
 "cells": [
  {
   "cell_type": "markdown",
   "metadata": {},
   "source": [
    "## Python programming methods to use the Vigenère cipher\n",
    "\n",
    "The code below includes the functions we used to encrypt/decrypt text in class. <font color=\"red\">**Read through this notebook to learn about how the code works, and then have fun with the challenges below!** (Note: These challenges are the same as the notebook from the Caesar cipher activity, but should be done with the Vigenère cipher.)</font>\n",
    "\n",
    "First, we need to define the alphabet we're using. <font color=\"red\">**Run the cell below - this needs to be done first in order for any of the following cells to work!**</font>"
   ]
  },
  {
   "cell_type": "code",
   "execution_count": 1,
   "metadata": {},
   "outputs": [],
   "source": [
    "# This is the alphabet that the cipher will use\n",
    "alphabet = 'abcdefghijklmnopqrstuvwxyz'"
   ]
  },
  {
   "cell_type": "markdown",
   "metadata": {},
   "source": [
    "If you haven't read the description for how the Caesar cipher function worked, you should return to that notebook for a detailed description. The difference with the Vigenère cipher it that the shift is based on a set key, which leads to the following differences in the function definition:\n",
    "1. The key is a _required argument_ (whereas with the Caesar cipher, the shift was optional since a default value could be defined).\n",
    "2. For each letter in the original text, the amount of shift has to be defined based on the next character in the key (`alphabet.index(k)`, in place of `shift` from the Caesar cipher).\n",
    "3. We also have to have a variable to keep track of how many characters we've encrypted so far (`letter_count`). Otherwise, non-letter characters (spaces or punctuation) will cause us to skip over some of the characters in the key.\n",
    "\n",
    "<font color=\"red\">**Read the cell below, especially the comments, to understand how it works. You may need to scroll left/right to see all of the comment text.**</font>"
   ]
  },
  {
   "cell_type": "code",
   "execution_count": null,
   "metadata": {},
   "outputs": [],
   "source": [
    "def Vigenere_encrypt(text, key): # define a new function\n",
    "    \n",
    "    global alphabet # references the alphabet above - note it only has lowercase letters!\n",
    "    n_letters = len(alphabet) # total number of letters in the alphabet\n",
    "    \n",
    "    new_text = '' # empty string (variable which stores text) for the output\n",
    "    \n",
    "    key = key.lower() # since the alphabet is all lowercase, make sure the key is lowercase too\n",
    "    n_key = len(key) # find out how long the key is\n",
    "    \n",
    "    letter_count = 0 # avoid skipping over key characters due to spaces, punctuation, etc.\n",
    "    \n",
    "    for old_s in text: # loop over each of the letters in the text\n",
    "        \n",
    "        if old_s.lower() in alphabet: # if the (lowercase) letter is in the alphabet we've defined\n",
    "            \n",
    "            k = key[letter_count%n_key] # find out which key character we're using\n",
    "            \n",
    "            if old_s.isupper(): # if the letter is uppercase\n",
    "                old_s = old_s.lower() # make old_s lowercase (since alphabet only has lowercase letters)\n",
    "                new_s = alphabet[(alphabet.index(old_s)+alphabet.index(k)) % n_letters]\n",
    "                new_text += new_s.upper() # adds the new letter to new_text, and makes it uppercase\n",
    "                \n",
    "            else: # if the letter is not uppercase\n",
    "                new_s = alphabet[(alphabet.index(old_s)+alphabet.index(k)) % n_letters]\n",
    "                new_text += new_s\n",
    "            \n",
    "            letter_count += 1 # we've now encrypted another character! \n",
    "                \n",
    "        else: # if the letter is not in the alphabet (e.g., it's a space character)\n",
    "            new_text += old_s\n",
    "            \n",
    "    return new_text  "
   ]
  },
  {
   "cell_type": "markdown",
   "metadata": {},
   "source": [
    "Now let's do the decryption function:"
   ]
  },
  {
   "cell_type": "code",
   "execution_count": 4,
   "metadata": {},
   "outputs": [],
   "source": [
    "def Vigenere_decrypt(text, key): \n",
    "    \n",
    "    global alphabet \n",
    "    n_letters = len(alphabet) \n",
    "    \n",
    "    new_text = '' \n",
    "    \n",
    "    key = key.lower() \n",
    "    n_key = len(key) \n",
    "    \n",
    "    letter_count = 0 \n",
    "    \n",
    "    for old_s in text: \n",
    "        \n",
    "        if old_s.lower() in alphabet: \n",
    "            \n",
    "            k = key[letter_count%n_key] \n",
    "            \n",
    "            if old_s.isupper(): \n",
    "                old_s = old_s.lower() \n",
    "                new_s = alphabet[(alphabet.index(old_s)-alphabet.index(k)) % n_letters]\n",
    "                new_text += new_s.upper() \n",
    "                \n",
    "            else: \n",
    "                new_s = alphabet[(alphabet.index(old_s)-alphabet.index(k)) % n_letters]\n",
    "                new_text += new_s\n",
    "                \n",
    "            letter_count += 1  \n",
    "                \n",
    "        else: \n",
    "            new_text += old_s\n",
    "            \n",
    "    return new_text"
   ]
  },
  {
   "cell_type": "markdown",
   "metadata": {},
   "source": [
    "As with the Caesar cipher, the only difference with decryption is the sign of the shift (`-alphabet.index(k)` instead of adding it). Since the two functions are so similar, we can combine the two, where we've now added a variable for what direction the function goes in:"
   ]
  },
  {
   "cell_type": "code",
   "execution_count": 5,
   "metadata": {},
   "outputs": [],
   "source": [
    "# This function accepts a few options for direction:\n",
    "#   1. \"encrypt\" or \"e\" means it'll encypt the text\n",
    "#   2. \"decrypt\" or \"d\" means it'll decrypt the text\n",
    "# Note that this function defaults to encryption\n",
    "\n",
    "def Vigenere_cipher(text, key, direction='encrypt'): \n",
    "    \n",
    "    global alphabet \n",
    "    n_letters = len(alphabet) \n",
    "    \n",
    "    new_text = '' \n",
    "    \n",
    "    key = key.lower() \n",
    "    n_key = len(key) \n",
    "    \n",
    "    letter_count = 0 \n",
    "    \n",
    "    shift = 1 \n",
    "    if direction == 'decrypt' or direction ==\"d\": shift = -1*shift \n",
    "    \n",
    "    for old_s in text:\n",
    "        \n",
    "        if old_s.lower() in alphabet: \n",
    "            \n",
    "            k = key[letter_count%n_key] \n",
    "            \n",
    "            if old_s.isupper(): \n",
    "                old_s = old_s.lower() \n",
    "                new_s = alphabet[(alphabet.index(old_s) + shift*alphabet.index(k)) % n_letters]\n",
    "                new_text += new_s.upper() \n",
    "                \n",
    "            else: \n",
    "                new_s = alphabet[(alphabet.index(old_s) + shift*alphabet.index(k)) % n_letters]\n",
    "                new_text += new_s\n",
    "                \n",
    "            letter_count += 1 \n",
    "                \n",
    "        else: \n",
    "            new_text += old_s\n",
    "            \n",
    "    return new_text "
   ]
  },
  {
   "cell_type": "markdown",
   "metadata": {},
   "source": [
    "As noted in the presentation, one of the ways we can strengthen our keys is if we use a string of random letters that's as long as our text. Using Python, we can easily generate these types of keys. However, generating random numbers isn't a built-in Python function, so we have to `import` a module, which means we tell Python we want to have access to additional functions and variables. To use the functions within a module, you'll need to reference them with the module name. For example, here we are using the `random` module, which contains a function called `randint()` that produces random integers (i.e., whole numbers like 0, 4, or 124). The function takes arguments for the minimum and maximum integer returned, so `randint(0, 10)` will produce numbers such as 0 or 4 or (at most) 10, but it won't return 124. To run the function, we have to give Python the command `random.randint(0, 10)` since the function belongs to the module. \n",
    "\n",
    "We'll also use the `range()` function, which produces a list of numbers starting at 0 and ending just before the argument passed to the function. For example, `range(5)` will produce `[0, 1, 2, 3, 4]`. So, if we create `for`-loop with `for i in range(5)`, the code will do the following:\n",
    "0. It will execute all of the commands within the loop (i.e., everything indented further in) assuming `i=0`.\n",
    "1. It will execute all of the commands within the loop (i.e., everything indented further in) assuming `i=1`.\n",
    "2. It will execute all of the commands within the loop (i.e., everything indented further in) assuming `i=2`.\n",
    "3. It will execute all of the commands within the loop (i.e., everything indented further in) assuming `i=3`.\n",
    "4. It will execute all of the commands within the loop (i.e., everything indented further in) assuming `i=4`.\n",
    "\n",
    "...which in total means the commands within the loop will be done 5 times.\n"
   ]
  },
  {
   "cell_type": "code",
   "execution_count": 6,
   "metadata": {},
   "outputs": [],
   "source": [
    "import random # Python module for using random numbers\n",
    "\n",
    "def random_key(length): # define the function; it requires an argument for the length of the key\n",
    "    global alphabet\n",
    "    n_letters = len(alphabet)\n",
    "    \n",
    "    key = '' # empty string for the resulting key\n",
    "    \n",
    "    for i in range(length): # it will do the commands in this loop for the number of times needed to reach length\n",
    "        key += alphabet[random.randint(0, n_letters-1)]\n",
    "    \n",
    "    return key"
   ]
  },
  {
   "cell_type": "markdown",
   "metadata": {},
   "source": [
    "<font color=\"red\">**Why do you think we needed to use `n_letters-1` in the function `randint`?**</font> Think about how the function is defined, and what indices correspond to \"a\" and \"z\" in the `alphabet` as we've defined it."
   ]
  },
  {
   "cell_type": "markdown",
   "metadata": {},
   "source": [
    "## Challenge #1: Modify the code so it can also encrypt numbers\n",
    "\n",
    "<font color=\"red\">**Add in the ability for your code to encrypt numbers.**</font> Some things to consider:\n",
    "1. I highly recommend not modifying `alphabet` - either define something new (e.g., `my_alphabet`) or add onto it (e.g., add a `numbers`).\n",
    "2. Can you just add numbers onto the alphabet? If you put them at the end (\"abc...xyz123\"), what happens if you have a shift of 3 and your message is \"I want to sleep ZZZ\"?\n",
    "3. The code above goes one by one through the letters in the input text (technically speaking, the `for` loop handles each character indvidually). How will your code handle a number with multiple digits, like \"11\" or \"43242\"?"
   ]
  },
  {
   "cell_type": "code",
   "execution_count": null,
   "metadata": {},
   "outputs": [],
   "source": [
    "# Insert your code here!\n",
    "\n",
    "\n",
    "\n"
   ]
  },
  {
   "cell_type": "markdown",
   "metadata": {},
   "source": [
    "## Challenge #2: Come up with your own cipher!\n",
    "\n",
    "The Caesar and Vigenère ciphers are just two ways to do a cipher. Some other ciphers to think about include\n",
    "1. Substitution cipher, where letters are randomly assigned to replace other letters: https://en.wikipedia.org/wiki/Substitution_cipher\n",
    "2. Transposition cipher, where letters within text are switched around: https://en.wikipedia.org/wiki/Transposition_cipher\n",
    "3. Atabash, where the alphabet is reversed: https://en.wikipedia.org/wiki/Atbash\n",
    "4. Affine cipher, where a mathematical formula decides how letters are replaced: https://en.wikipedia.org/wiki/Affine_cipher\n",
    "\n",
    "<font color=\"red\">**Pick your favorite cipher, and create a function for it below!**</font> You may want to consider starting with only lowercase letters, and then add complexity to the function once it works.\n",
    "\n",
    "If you run into problems with your code, you'll need to do what's called _debugging_, which is the process of identifying and eliminating problems (bugs). One useful function to help with debugging is the `print()` function. For example, when writing `Caesar_encrypt`, I did some debugging on line 12 (the one that identifies the replacement letter):\n",
    "\n",
    "> `new_s = alphabet[(alphabet.index(old_s)+shift) % n_letters]` \n",
    ">\n",
    "> `print(old_s, alphabet.index(old_s), (alphabet.index(old_s)+shift) % n_letters, new_s)`\n",
    "\n",
    "This extra line prints out information about the original letter `old_s`, its index in `alphabet`, the new index, and the replacement letter `new_s`. I can compare that information to what I expect those values to be, and then make any necessary edits to the code to resolve bugs. A couple of notes to be aware of:\n",
    "* Note that the `print` function requires parentheses: everything to be printed out is contained between the parentheses following `print`. So, `print old_s` will not work (you'll get an error message), but `print(old_s)` will work.\n",
    "* The `print()` line(s) have to be correctly indented, just like the other lines of your code.\n",
    "* Also be aware of where the line is placed. If I put the `print()` line just after line 12 in `Caesar_encrypt`, when I run the command `Caesar_encrypt('Hello')`, will I get printed output for all of the letters in \"Hello\" or just some of them?"
   ]
  },
  {
   "cell_type": "code",
   "execution_count": null,
   "metadata": {},
   "outputs": [],
   "source": [
    "# Insert your code here!\n",
    "\n",
    "\n",
    "\n"
   ]
  }
 ],
 "metadata": {
  "kernelspec": {
   "display_name": "Python 3",
   "language": "python",
   "name": "python3"
  },
  "language_info": {
   "codemirror_mode": {
    "name": "ipython",
    "version": 3
   },
   "file_extension": ".py",
   "mimetype": "text/x-python",
   "name": "python",
   "nbconvert_exporter": "python",
   "pygments_lexer": "ipython3",
   "version": "3.6.5"
  }
 },
 "nbformat": 4,
 "nbformat_minor": 2
}
